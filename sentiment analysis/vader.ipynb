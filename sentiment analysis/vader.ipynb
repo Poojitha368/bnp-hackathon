{
 "cells": [
  {
   "cell_type": "code",
   "execution_count": 8,
   "id": "ea99c6df",
   "metadata": {},
   "outputs": [
    {
     "name": "stdout",
     "output_type": "stream",
     "text": [
      "Sentiment of text 1: {'neg': 0.636, 'neu': 0.364, 'pos': 0.0, 'compound': -0.5423}\n"
     ]
    }
   ],
   "source": [
    "from vaderSentiment.vaderSentiment import SentimentIntensityAnalyzer\n",
    "sentiment = SentimentIntensityAnalyzer()\n",
    "\n",
    "\n",
    "text_1 = \"book is bad\"\n",
    "\n",
    "sent_1 = sentiment.polarity_scores(text_1)\n",
    "print(\"Sentiment of text 1:\", sent_1)"
   ]
  },
  {
   "cell_type": "code",
   "execution_count": null,
   "id": "27d6f4f5",
   "metadata": {},
   "outputs": [],
   "source": []
  }
 ],
 "metadata": {
  "kernelspec": {
   "display_name": "env",
   "language": "python",
   "name": "python3"
  },
  "language_info": {
   "codemirror_mode": {
    "name": "ipython",
    "version": 3
   },
   "file_extension": ".py",
   "mimetype": "text/x-python",
   "name": "python",
   "nbconvert_exporter": "python",
   "pygments_lexer": "ipython3",
   "version": "3.13.5"
  }
 },
 "nbformat": 4,
 "nbformat_minor": 5
}
