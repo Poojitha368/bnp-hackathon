{
 "cells": [
  {
   "cell_type": "code",
   "execution_count": null,
   "id": "debd3210",
   "metadata": {},
   "outputs": [],
   "source": [
    "import pandas as pd\n",
    "\n",
    "# Example: create a DataFrame manually (replace with reading your dataset)\n",
    "data = [\n",
    "    {\"company\": \"AAPL\", \"headline\": \"Apple iPhone 17 demand surges ahead of launch\"},\n",
    "    {\"company\": \"AAPL\", \"headline\": \"Apple stock rises as Nasdaq hits record high\"},\n",
    "    {\"company\": \"AAPL\", \"headline\": \"Investors cautious about Apple’s China sales slowdown\"},\n",
    "\n",
    "    {\"company\": \"MSFT\", \"headline\": \"Microsoft reports strong quarterly earnings beating expectations\"},\n",
    "    {\"company\": \"MSFT\", \"headline\": \"c\"},\n",
    "    {\"company\": \"MSFT\", \"headline\": \"Concerns grow over Microsoft facing new antitrust scrutiny\"},\n",
    "\n",
    "    {\"company\": \"GOOGL\", \"headline\": \"Google unveils new AI model to compete with OpenAI\"},\n",
    "    {\"company\": \"GOOGL\", \"headline\": \"Alphabet stock falls as ad revenue slows down\"},\n",
    "    {\"company\": \"GOOGL\", \"headline\": \"Google Cloud revenue shows steady growth this quarter\"},\n",
    "]\n",
    "\n",
    "\n",
    "df = pd.DataFrame(data)"
   ]
  },
  {
   "cell_type": "code",
   "execution_count": 10,
   "id": "e760723c",
   "metadata": {},
   "outputs": [
    {
     "name": "stderr",
     "output_type": "stream",
     "text": [
      "[nltk_data] Downloading package vader_lexicon to\n",
      "[nltk_data]     C:\\Users\\Poojitha\\AppData\\Roaming\\nltk_data...\n",
      "[nltk_data]   Package vader_lexicon is already up-to-date!\n"
     ]
    },
    {
     "data": {
      "text/plain": [
       "True"
      ]
     },
     "execution_count": 10,
     "metadata": {},
     "output_type": "execute_result"
    }
   ],
   "source": [
    "from nltk.sentiment.vader import SentimentIntensityAnalyzer\n",
    "import nltk\n",
    "\n",
    "# Download VADER lexicon (only first time)\n",
    "nltk.download('vader_lexicon')"
   ]
  },
  {
   "cell_type": "code",
   "execution_count": 11,
   "id": "798a4d85",
   "metadata": {},
   "outputs": [],
   "source": [
    "# Initialize VADER\n",
    "sid = SentimentIntensityAnalyzer()"
   ]
  },
  {
   "cell_type": "code",
   "execution_count": 12,
   "id": "025cb404",
   "metadata": {},
   "outputs": [],
   "source": [
    "# Function to classify sentiment\n",
    "def classify_sentiment(text):\n",
    "    score = sid.polarity_scores(text)['compound']\n",
    "    if score >= 0.05:\n",
    "        return \"Positive (Buy)\"\n",
    "    elif score <= -0.05:\n",
    "        return \"Negative (Not Buy)\"\n",
    "    else:\n",
    "        return \"Neutral\""
   ]
  },
  {
   "cell_type": "code",
   "execution_count": 13,
   "id": "fa112de2",
   "metadata": {},
   "outputs": [
    {
     "name": "stdout",
     "output_type": "stream",
     "text": [
      "  company                                           headline  \\\n",
      "0    AAPL      Apple iPhone 17 demand surges ahead of launch   \n",
      "1    AAPL       Apple stock rises as Nasdaq hits record high   \n",
      "2    AAPL  Investors cautious about Apple’s China sales s...   \n",
      "3    MSFT  Microsoft reports strong quarterly earnings be...   \n",
      "4    MSFT  Microsoft AI investments spark optimism in Wal...   \n",
      "5    MSFT  Concerns grow over Microsoft facing new antitr...   \n",
      "6   GOOGL  Google unveils new AI model to compete with Op...   \n",
      "7   GOOGL      Alphabet stock falls as ad revenue slows down   \n",
      "8   GOOGL  Google Cloud revenue shows steady growth this ...   \n",
      "\n",
      "            sentiment  \n",
      "0  Negative (Not Buy)  \n",
      "1             Neutral  \n",
      "2  Negative (Not Buy)  \n",
      "3      Positive (Buy)  \n",
      "4      Positive (Buy)  \n",
      "5             Neutral  \n",
      "6             Neutral  \n",
      "7             Neutral  \n",
      "8      Positive (Buy)  \n"
     ]
    }
   ],
   "source": [
    "# Apply sentiment to each headline\n",
    "df['sentiment'] = df['headline'].apply(classify_sentiment)\n",
    "print(df)"
   ]
  },
  {
   "cell_type": "code",
   "execution_count": 14,
   "id": "8abdcd46",
   "metadata": {},
   "outputs": [],
   "source": [
    "df['compound_score'] = df['headline'].apply(lambda x: sid.polarity_scores(x)['compound'])\n",
    "\n",
    "# Scale compound score from -1→1 to 0→5\n",
    "df['scaled_score'] = df['compound_score'].apply(lambda x: ((x + 1) / 2) * 5)"
   ]
  },
  {
   "cell_type": "code",
   "execution_count": 15,
   "id": "be9174db",
   "metadata": {},
   "outputs": [
    {
     "name": "stdout",
     "output_type": "stream",
     "text": [
      "  company                                           headline  compound_score  \\\n",
      "0    AAPL      Apple iPhone 17 demand surges ahead of launch         -0.1280   \n",
      "1    AAPL       Apple stock rises as Nasdaq hits record high          0.0000   \n",
      "2    AAPL  Investors cautious about Apple’s China sales s...         -0.1027   \n",
      "3    MSFT  Microsoft reports strong quarterly earnings be...          0.0772   \n",
      "4    MSFT  Microsoft AI investments spark optimism in Wal...          0.6597   \n",
      "5    MSFT  Concerns grow over Microsoft facing new antitr...          0.0000   \n",
      "6   GOOGL  Google unveils new AI model to compete with Op...          0.0000   \n",
      "7   GOOGL      Alphabet stock falls as ad revenue slows down          0.0000   \n",
      "8   GOOGL  Google Cloud revenue shows steady growth this ...          0.3818   \n",
      "\n",
      "   scaled_score  \n",
      "0       2.18000  \n",
      "1       2.50000  \n",
      "2       2.24325  \n",
      "3       2.69300  \n",
      "4       4.14925  \n",
      "5       2.50000  \n",
      "6       2.50000  \n",
      "7       2.50000  \n",
      "8       3.45450  \n",
      "\n",
      "--- Final Sentiment Score per Company (0 to 5) ---\n",
      "  company  avg_sentiment_score_0to5\n",
      "0    AAPL                  2.307750\n",
      "1   GOOGL                  2.818167\n",
      "2    MSFT                  3.114083\n"
     ]
    }
   ],
   "source": [
    "# --- Aggregate sentiment per company ---\n",
    "company_scores = df.groupby('company')['scaled_score'].mean().reset_index()\n",
    "company_scores.rename(columns={'scaled_score': 'avg_sentiment_score_0to5'}, inplace=True)\n",
    "\n",
    "print(df[['company','headline','compound_score','scaled_score']])\n",
    "print(\"\\n--- Final Sentiment Score per Company (0 to 5) ---\")\n",
    "print(company_scores)"
   ]
  },
  {
   "cell_type": "code",
   "execution_count": null,
   "id": "d0182415",
   "metadata": {},
   "outputs": [],
   "source": []
  }
 ],
 "metadata": {
  "kernelspec": {
   "display_name": "env",
   "language": "python",
   "name": "python3"
  },
  "language_info": {
   "codemirror_mode": {
    "name": "ipython",
    "version": 3
   },
   "file_extension": ".py",
   "mimetype": "text/x-python",
   "name": "python",
   "nbconvert_exporter": "python",
   "pygments_lexer": "ipython3",
   "version": "3.13.5"
  }
 },
 "nbformat": 4,
 "nbformat_minor": 5
}
