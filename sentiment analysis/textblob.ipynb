{
 "cells": [
  {
   "cell_type": "code",
   "execution_count": 8,
   "id": "7ebc29ef",
   "metadata": {},
   "outputs": [
    {
     "name": "stdout",
     "output_type": "stream",
     "text": [
      "Polarity of Text 1 is 0.0\n"
     ]
    }
   ],
   "source": [
    "from textblob import TextBlob\n",
    "\n",
    "text_1 = \"Apple iPhone 17 demand surges ahead of launch\"\n",
    "\n",
    "#Determining the Polarity \n",
    "p_1 = TextBlob(text_1).sentiment.polarity\n",
    "\n",
    "print(\"Polarity of Text 1 is\", p_1)"
   ]
  },
  {
   "cell_type": "code",
   "execution_count": null,
   "id": "10798882",
   "metadata": {},
   "outputs": [],
   "source": []
  },
  {
   "cell_type": "code",
   "execution_count": null,
   "id": "053c6c2d",
   "metadata": {},
   "outputs": [],
   "source": []
  }
 ],
 "metadata": {
  "kernelspec": {
   "display_name": "env",
   "language": "python",
   "name": "python3"
  },
  "language_info": {
   "codemirror_mode": {
    "name": "ipython",
    "version": 3
   },
   "file_extension": ".py",
   "mimetype": "text/x-python",
   "name": "python",
   "nbconvert_exporter": "python",
   "pygments_lexer": "ipython3",
   "version": "3.13.5"
  }
 },
 "nbformat": 4,
 "nbformat_minor": 5
}
