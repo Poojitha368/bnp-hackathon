{
 "cells": [
  {
   "cell_type": "code",
   "execution_count": 2,
   "id": "e6be5f91",
   "metadata": {},
   "outputs": [
    {
     "name": "stdout",
     "output_type": "stream",
     "text": [
      "WARNING:tensorflow:From c:\\Users\\Poojitha\\OneDrive\\Desktop\\bnp-hackathon\\env\\Lib\\site-packages\\tf_keras\\src\\losses.py:2976: The name tf.losses.sparse_softmax_cross_entropy is deprecated. Please use tf.compat.v1.losses.sparse_softmax_cross_entropy instead.\n",
      "\n"
     ]
    },
    {
     "name": "stderr",
     "output_type": "stream",
     "text": [
      "Device set to use cuda:0\n"
     ]
    }
   ],
   "source": [
    "# Use a pipeline as a high-level helper\n",
    "from transformers import pipeline\n",
    "\n",
    "pipe = pipeline(\"text-classification\", model=\"ProsusAI/finbert\")"
   ]
  },
  {
   "cell_type": "code",
   "execution_count": 9,
   "id": "49221220",
   "metadata": {},
   "outputs": [
    {
     "name": "stdout",
     "output_type": "stream",
     "text": [
      "[{'label': 'negative', 'score': 0.9399104714393616}]\n"
     ]
    }
   ],
   "source": [
    "text = \"Concerns grow over Microsoft facing new antitrust scrutiny\"\n",
    "result = pipe(text)\n",
    "print(result)"
   ]
  },
  {
   "cell_type": "markdown",
   "id": "e611515a",
   "metadata": {},
   "source": [
    "for multiple text inputs"
   ]
  },
  {
   "cell_type": "code",
   "execution_count": 37,
   "id": "b537edeb",
   "metadata": {},
   "outputs": [
    {
     "name": "stdout",
     "output_type": "stream",
     "text": [
      "Text: Recent regulations have negatively impacted the industry.\n",
      "Sentiment: negative, Confidence: 0.9511\n",
      "\n",
      "Text: Investors cautious about Apple’s China sales slowdown\n",
      "Sentiment: negative, Confidence: 0.9520\n",
      "\n",
      "0\n",
      "0\n",
      "1.9031046032905579\n",
      "Overall sentiment is negative \n"
     ]
    }
   ],
   "source": [
    "# List of multiple stock news headlines or financial texts\n",
    "texts = [\n",
    "    # \"The company's quarterly earnings\",\n",
    "    \"Recent regulations have negatively impacted the industry.\",\n",
    "    \"Investors cautious about Apple’s China sales slowdown\",\n",
    "    # \"Stock prices are expected to surge after the merger announcement.\",\n",
    "    # \"Apple stock rises as Nasdaq hits record high\",\n",
    "    # \"Microsoft AI investments spark optimism in Wall Street\"\n",
    "]\n",
    "\n",
    "# Run sentiment analysis on all texts at once\n",
    "results = pipe(texts)\n",
    "\n",
    "# Print results\n",
    "positive=0\n",
    "neutral=0\n",
    "negative=0\n",
    "for text, result in zip(texts, results):\n",
    "    print(f\"Text: {text}\")\n",
    "    print(f\"Sentiment: {result['label']}, Confidence: {result['score']:.4f}\\n\")\n",
    "    if result['label'] == \"positive\":\n",
    "        positive += result['score']\n",
    "    elif result['label'] == \"negative\":\n",
    "        negative += result['score']\n",
    "    else:\n",
    "        neutral += result['score']\n",
    "\n",
    "print(positive)\n",
    "print(neutral)\n",
    "print(negative)\n",
    "\n",
    "if positive > negative and positive > neutral:\n",
    "    print(\"Overall sentiment is positive \")\n",
    "elif neutral > negative and neutral > positive:\n",
    "    print(\"Overall sentiment is neutral \")\n",
    "else:\n",
    "    print(\"Overall sentiment is negative \")\n",
    "        \n",
    "    \n"
   ]
  },
  {
   "cell_type": "markdown",
   "id": "5f10a5fb",
   "metadata": {},
   "source": [
    "normalize the score into single score (-1,1)"
   ]
  },
  {
   "cell_type": "code",
   "execution_count": 38,
   "id": "1238b44f",
   "metadata": {},
   "outputs": [
    {
     "name": "stdout",
     "output_type": "stream",
     "text": [
      "-1.0\n"
     ]
    }
   ],
   "source": [
    "normalised_score = (positive-negative)/(positive+neutral+negative)\n",
    "print(normalised_score)"
   ]
  },
  {
   "cell_type": "markdown",
   "id": "d9d3976d",
   "metadata": {},
   "source": [
    "convert it to scale of 1 to 5"
   ]
  },
  {
   "cell_type": "code",
   "execution_count": 39,
   "id": "37705f90",
   "metadata": {},
   "outputs": [
    {
     "name": "stdout",
     "output_type": "stream",
     "text": [
      "1.0\n"
     ]
    }
   ],
   "source": [
    "final_score = ( (normalised_score+1)/2 *4)+1\n",
    "print(final_score)"
   ]
  },
  {
   "cell_type": "code",
   "execution_count": null,
   "id": "c4761b21",
   "metadata": {},
   "outputs": [],
   "source": []
  }
 ],
 "metadata": {
  "kernelspec": {
   "display_name": "env",
   "language": "python",
   "name": "python3"
  },
  "language_info": {
   "codemirror_mode": {
    "name": "ipython",
    "version": 3
   },
   "file_extension": ".py",
   "mimetype": "text/x-python",
   "name": "python",
   "nbconvert_exporter": "python",
   "pygments_lexer": "ipython3",
   "version": "3.13.5"
  }
 },
 "nbformat": 4,
 "nbformat_minor": 5
}
